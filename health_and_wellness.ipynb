{
 "cells": [
  {
   "cell_type": "markdown",
   "id": "45e46fd7",
   "metadata": {},
   "source": [
    "# Title"
   ]
  },
  {
   "cell_type": "markdown",
   "id": "b5909b06",
   "metadata": {},
   "source": [
    "## Overview\n",
    "We shall be using the CRISP DM methodology for this project\n",
    "* Business Understanding\n",
    "\n",
    "* Data Understanding\n",
    "\n",
    "* Exploratory Data Analysis\n",
    "\n",
    "* Modeling\n",
    "\n",
    "* Evaluation\n",
    "\n",
    "* Deployment"
   ]
  },
  {
   "cell_type": "markdown",
   "id": "bad562d5",
   "metadata": {},
   "source": [
    "## 3. Data Preparation"
   ]
  },
  {
   "cell_type": "markdown",
   "id": "3dab624e",
   "metadata": {},
   "source": [
    "### a. Import Relevant libraries for Data Analysis"
   ]
  },
  {
   "cell_type": "code",
   "execution_count": 193,
   "id": "653f7d5c",
   "metadata": {},
   "outputs": [],
   "source": [
    "import pandas as pd\n",
    "import numpy as np\n",
    "import matplotlib.pyplot as plt\n",
    "import seaborn as sns\n",
    "%matplotlib inline"
   ]
  },
  {
   "cell_type": "code",
   "execution_count": 194,
   "id": "28335a97",
   "metadata": {},
   "outputs": [
    {
     "data": {
      "text/html": [
       "<div>\n",
       "<style scoped>\n",
       "    .dataframe tbody tr th:only-of-type {\n",
       "        vertical-align: middle;\n",
       "    }\n",
       "\n",
       "    .dataframe tbody tr th {\n",
       "        vertical-align: top;\n",
       "    }\n",
       "\n",
       "    .dataframe thead th {\n",
       "        text-align: right;\n",
       "    }\n",
       "</style>\n",
       "<table border=\"1\" class=\"dataframe\">\n",
       "  <thead>\n",
       "    <tr style=\"text-align: right;\">\n",
       "      <th></th>\n",
       "      <th>Person ID</th>\n",
       "      <th>Gender</th>\n",
       "      <th>Age</th>\n",
       "      <th>Occupation</th>\n",
       "      <th>Sleep Duration</th>\n",
       "      <th>Quality of Sleep</th>\n",
       "      <th>Physical Activity Level</th>\n",
       "      <th>Stress Level</th>\n",
       "      <th>BMI Category</th>\n",
       "      <th>Blood Pressure</th>\n",
       "      <th>Heart Rate</th>\n",
       "      <th>Daily Steps</th>\n",
       "      <th>Sleep Disorder</th>\n",
       "    </tr>\n",
       "  </thead>\n",
       "  <tbody>\n",
       "    <tr>\n",
       "      <th>0</th>\n",
       "      <td>1</td>\n",
       "      <td>Male</td>\n",
       "      <td>27</td>\n",
       "      <td>Software Engineer</td>\n",
       "      <td>6.1</td>\n",
       "      <td>6</td>\n",
       "      <td>42</td>\n",
       "      <td>6</td>\n",
       "      <td>Overweight</td>\n",
       "      <td>126/83</td>\n",
       "      <td>77</td>\n",
       "      <td>4200</td>\n",
       "      <td>NaN</td>\n",
       "    </tr>\n",
       "    <tr>\n",
       "      <th>1</th>\n",
       "      <td>2</td>\n",
       "      <td>Male</td>\n",
       "      <td>28</td>\n",
       "      <td>Doctor</td>\n",
       "      <td>6.2</td>\n",
       "      <td>6</td>\n",
       "      <td>60</td>\n",
       "      <td>8</td>\n",
       "      <td>Normal</td>\n",
       "      <td>125/80</td>\n",
       "      <td>75</td>\n",
       "      <td>10000</td>\n",
       "      <td>NaN</td>\n",
       "    </tr>\n",
       "    <tr>\n",
       "      <th>2</th>\n",
       "      <td>3</td>\n",
       "      <td>Male</td>\n",
       "      <td>28</td>\n",
       "      <td>Doctor</td>\n",
       "      <td>6.2</td>\n",
       "      <td>6</td>\n",
       "      <td>60</td>\n",
       "      <td>8</td>\n",
       "      <td>Normal</td>\n",
       "      <td>125/80</td>\n",
       "      <td>75</td>\n",
       "      <td>10000</td>\n",
       "      <td>NaN</td>\n",
       "    </tr>\n",
       "    <tr>\n",
       "      <th>3</th>\n",
       "      <td>4</td>\n",
       "      <td>Male</td>\n",
       "      <td>28</td>\n",
       "      <td>Sales Representative</td>\n",
       "      <td>5.9</td>\n",
       "      <td>4</td>\n",
       "      <td>30</td>\n",
       "      <td>8</td>\n",
       "      <td>Obese</td>\n",
       "      <td>140/90</td>\n",
       "      <td>85</td>\n",
       "      <td>3000</td>\n",
       "      <td>Sleep Apnea</td>\n",
       "    </tr>\n",
       "    <tr>\n",
       "      <th>4</th>\n",
       "      <td>5</td>\n",
       "      <td>Male</td>\n",
       "      <td>28</td>\n",
       "      <td>Sales Representative</td>\n",
       "      <td>5.9</td>\n",
       "      <td>4</td>\n",
       "      <td>30</td>\n",
       "      <td>8</td>\n",
       "      <td>Obese</td>\n",
       "      <td>140/90</td>\n",
       "      <td>85</td>\n",
       "      <td>3000</td>\n",
       "      <td>Sleep Apnea</td>\n",
       "    </tr>\n",
       "  </tbody>\n",
       "</table>\n",
       "</div>"
      ],
      "text/plain": [
       "   Person ID Gender  Age            Occupation  Sleep Duration  \\\n",
       "0          1   Male   27     Software Engineer             6.1   \n",
       "1          2   Male   28                Doctor             6.2   \n",
       "2          3   Male   28                Doctor             6.2   \n",
       "3          4   Male   28  Sales Representative             5.9   \n",
       "4          5   Male   28  Sales Representative             5.9   \n",
       "\n",
       "   Quality of Sleep  Physical Activity Level  Stress Level BMI Category  \\\n",
       "0                 6                       42             6   Overweight   \n",
       "1                 6                       60             8       Normal   \n",
       "2                 6                       60             8       Normal   \n",
       "3                 4                       30             8        Obese   \n",
       "4                 4                       30             8        Obese   \n",
       "\n",
       "  Blood Pressure  Heart Rate  Daily Steps Sleep Disorder  \n",
       "0         126/83          77         4200            NaN  \n",
       "1         125/80          75        10000            NaN  \n",
       "2         125/80          75        10000            NaN  \n",
       "3         140/90          85         3000    Sleep Apnea  \n",
       "4         140/90          85         3000    Sleep Apnea  "
      ]
     },
     "execution_count": 194,
     "metadata": {},
     "output_type": "execute_result"
    }
   ],
   "source": [
    "#Inspect the first 5 rows of the dataset\n",
    "health_wellness_df = pd.read_csv('Health_and_wellness\\Health and Sleep relation 2024\\Sleep_health_and_lifestyle_dataset.csv')\n",
    "health_wellness_df.head()"
   ]
  },
  {
   "cell_type": "code",
   "execution_count": 195,
   "id": "cb858987",
   "metadata": {},
   "outputs": [
    {
     "data": {
      "text/plain": [
       "(374, 13)"
      ]
     },
     "execution_count": 195,
     "metadata": {},
     "output_type": "execute_result"
    }
   ],
   "source": [
    "#inspect the shape of the dataset\n",
    "health_wellness_df.shape"
   ]
  },
  {
   "cell_type": "code",
   "execution_count": 196,
   "id": "2b7dafa0",
   "metadata": {},
   "outputs": [
    {
     "data": {
      "text/plain": [
       "Index(['Person ID', 'Gender', 'Age', 'Occupation', 'Sleep Duration',\n",
       "       'Quality of Sleep', 'Physical Activity Level', 'Stress Level',\n",
       "       'BMI Category', 'Blood Pressure', 'Heart Rate', 'Daily Steps',\n",
       "       'Sleep Disorder'],\n",
       "      dtype='object')"
      ]
     },
     "execution_count": 196,
     "metadata": {},
     "output_type": "execute_result"
    }
   ],
   "source": [
    "#Inspect the column names of the dataset\n",
    "health_wellness_df.columns"
   ]
  },
  {
   "cell_type": "code",
   "execution_count": 197,
   "id": "2e3e670f",
   "metadata": {},
   "outputs": [
    {
     "data": {
      "text/html": [
       "<div>\n",
       "<style scoped>\n",
       "    .dataframe tbody tr th:only-of-type {\n",
       "        vertical-align: middle;\n",
       "    }\n",
       "\n",
       "    .dataframe tbody tr th {\n",
       "        vertical-align: top;\n",
       "    }\n",
       "\n",
       "    .dataframe thead th {\n",
       "        text-align: right;\n",
       "    }\n",
       "</style>\n",
       "<table border=\"1\" class=\"dataframe\">\n",
       "  <thead>\n",
       "    <tr style=\"text-align: right;\">\n",
       "      <th></th>\n",
       "      <th>Person ID</th>\n",
       "      <th>Age</th>\n",
       "      <th>Sleep Duration</th>\n",
       "      <th>Quality of Sleep</th>\n",
       "      <th>Physical Activity Level</th>\n",
       "      <th>Stress Level</th>\n",
       "      <th>Heart Rate</th>\n",
       "      <th>Daily Steps</th>\n",
       "    </tr>\n",
       "  </thead>\n",
       "  <tbody>\n",
       "    <tr>\n",
       "      <th>count</th>\n",
       "      <td>374.000000</td>\n",
       "      <td>374.000000</td>\n",
       "      <td>374.000000</td>\n",
       "      <td>374.000000</td>\n",
       "      <td>374.000000</td>\n",
       "      <td>374.000000</td>\n",
       "      <td>374.000000</td>\n",
       "      <td>374.000000</td>\n",
       "    </tr>\n",
       "    <tr>\n",
       "      <th>mean</th>\n",
       "      <td>187.500000</td>\n",
       "      <td>42.184492</td>\n",
       "      <td>7.132086</td>\n",
       "      <td>7.312834</td>\n",
       "      <td>59.171123</td>\n",
       "      <td>5.385027</td>\n",
       "      <td>70.165775</td>\n",
       "      <td>6816.844920</td>\n",
       "    </tr>\n",
       "    <tr>\n",
       "      <th>std</th>\n",
       "      <td>108.108742</td>\n",
       "      <td>8.673133</td>\n",
       "      <td>0.795657</td>\n",
       "      <td>1.196956</td>\n",
       "      <td>20.830804</td>\n",
       "      <td>1.774526</td>\n",
       "      <td>4.135676</td>\n",
       "      <td>1617.915679</td>\n",
       "    </tr>\n",
       "    <tr>\n",
       "      <th>min</th>\n",
       "      <td>1.000000</td>\n",
       "      <td>27.000000</td>\n",
       "      <td>5.800000</td>\n",
       "      <td>4.000000</td>\n",
       "      <td>30.000000</td>\n",
       "      <td>3.000000</td>\n",
       "      <td>65.000000</td>\n",
       "      <td>3000.000000</td>\n",
       "    </tr>\n",
       "    <tr>\n",
       "      <th>25%</th>\n",
       "      <td>94.250000</td>\n",
       "      <td>35.250000</td>\n",
       "      <td>6.400000</td>\n",
       "      <td>6.000000</td>\n",
       "      <td>45.000000</td>\n",
       "      <td>4.000000</td>\n",
       "      <td>68.000000</td>\n",
       "      <td>5600.000000</td>\n",
       "    </tr>\n",
       "    <tr>\n",
       "      <th>50%</th>\n",
       "      <td>187.500000</td>\n",
       "      <td>43.000000</td>\n",
       "      <td>7.200000</td>\n",
       "      <td>7.000000</td>\n",
       "      <td>60.000000</td>\n",
       "      <td>5.000000</td>\n",
       "      <td>70.000000</td>\n",
       "      <td>7000.000000</td>\n",
       "    </tr>\n",
       "    <tr>\n",
       "      <th>75%</th>\n",
       "      <td>280.750000</td>\n",
       "      <td>50.000000</td>\n",
       "      <td>7.800000</td>\n",
       "      <td>8.000000</td>\n",
       "      <td>75.000000</td>\n",
       "      <td>7.000000</td>\n",
       "      <td>72.000000</td>\n",
       "      <td>8000.000000</td>\n",
       "    </tr>\n",
       "    <tr>\n",
       "      <th>max</th>\n",
       "      <td>374.000000</td>\n",
       "      <td>59.000000</td>\n",
       "      <td>8.500000</td>\n",
       "      <td>9.000000</td>\n",
       "      <td>90.000000</td>\n",
       "      <td>8.000000</td>\n",
       "      <td>86.000000</td>\n",
       "      <td>10000.000000</td>\n",
       "    </tr>\n",
       "  </tbody>\n",
       "</table>\n",
       "</div>"
      ],
      "text/plain": [
       "        Person ID         Age  Sleep Duration  Quality of Sleep  \\\n",
       "count  374.000000  374.000000      374.000000        374.000000   \n",
       "mean   187.500000   42.184492        7.132086          7.312834   \n",
       "std    108.108742    8.673133        0.795657          1.196956   \n",
       "min      1.000000   27.000000        5.800000          4.000000   \n",
       "25%     94.250000   35.250000        6.400000          6.000000   \n",
       "50%    187.500000   43.000000        7.200000          7.000000   \n",
       "75%    280.750000   50.000000        7.800000          8.000000   \n",
       "max    374.000000   59.000000        8.500000          9.000000   \n",
       "\n",
       "       Physical Activity Level  Stress Level  Heart Rate   Daily Steps  \n",
       "count               374.000000    374.000000  374.000000    374.000000  \n",
       "mean                 59.171123      5.385027   70.165775   6816.844920  \n",
       "std                  20.830804      1.774526    4.135676   1617.915679  \n",
       "min                  30.000000      3.000000   65.000000   3000.000000  \n",
       "25%                  45.000000      4.000000   68.000000   5600.000000  \n",
       "50%                  60.000000      5.000000   70.000000   7000.000000  \n",
       "75%                  75.000000      7.000000   72.000000   8000.000000  \n",
       "max                  90.000000      8.000000   86.000000  10000.000000  "
      ]
     },
     "execution_count": 197,
     "metadata": {},
     "output_type": "execute_result"
    }
   ],
   "source": [
    "#Check the statistical data\n",
    "health_wellness_df.describe()"
   ]
  },
  {
   "cell_type": "markdown",
   "id": "e8b9998a",
   "metadata": {},
   "source": [
    "**Observations**\n",
    "\n",
    "* The age of the individuals ranges from 27 to 59 years old.\n",
    "\n",
    "* The mean sleep duration hours is at 7.1 with the standard deviation of 0.8 hrs. \n",
    "\n",
    "* The quality of sleep ranges from 4 to 9.\n",
    "\n",
    "* The Physical Activity Level ranges from 30 to 90. \n",
    "\n",
    "* The stress level ranges from 3 to 8 being the maximum.\n",
    "\n",
    "* The highest heart rate recorded is 86.\n",
    "\n",
    "* The minimum daily steps recorded is 3000 and the average steps taken daily is 6816."
   ]
  },
  {
   "cell_type": "code",
   "execution_count": 198,
   "id": "e33c1794",
   "metadata": {},
   "outputs": [
    {
     "name": "stdout",
     "output_type": "stream",
     "text": [
      "<class 'pandas.core.frame.DataFrame'>\n",
      "RangeIndex: 374 entries, 0 to 373\n",
      "Data columns (total 13 columns):\n",
      " #   Column                   Non-Null Count  Dtype  \n",
      "---  ------                   --------------  -----  \n",
      " 0   Person ID                374 non-null    int64  \n",
      " 1   Gender                   374 non-null    object \n",
      " 2   Age                      374 non-null    int64  \n",
      " 3   Occupation               374 non-null    object \n",
      " 4   Sleep Duration           374 non-null    float64\n",
      " 5   Quality of Sleep         374 non-null    int64  \n",
      " 6   Physical Activity Level  374 non-null    int64  \n",
      " 7   Stress Level             374 non-null    int64  \n",
      " 8   BMI Category             374 non-null    object \n",
      " 9   Blood Pressure           374 non-null    object \n",
      " 10  Heart Rate               374 non-null    int64  \n",
      " 11  Daily Steps              374 non-null    int64  \n",
      " 12  Sleep Disorder           155 non-null    object \n",
      "dtypes: float64(1), int64(7), object(5)\n",
      "memory usage: 38.1+ KB\n"
     ]
    }
   ],
   "source": [
    "#Check the Datatypes of the columns\n",
    "health_wellness_df.info()"
   ]
  },
  {
   "cell_type": "markdown",
   "id": "ed29478b",
   "metadata": {},
   "source": [
    "**Summary**\n",
    "\n",
    "* The dataset has 374 rows and 13 columns. The datatypes are 1 float64, 7 int64 and 5 objects. Missing values can be seen on column 'Sleep Disorder' where the non-null values are 155. We shall proceed to confirm the missing values and duplicates"
   ]
  },
  {
   "cell_type": "code",
   "execution_count": 199,
   "id": "f1514edb",
   "metadata": {},
   "outputs": [
    {
     "data": {
      "text/plain": [
       "Person ID                    0\n",
       "Gender                       0\n",
       "Age                          0\n",
       "Occupation                   0\n",
       "Sleep Duration               0\n",
       "Quality of Sleep             0\n",
       "Physical Activity Level      0\n",
       "Stress Level                 0\n",
       "BMI Category                 0\n",
       "Blood Pressure               0\n",
       "Heart Rate                   0\n",
       "Daily Steps                  0\n",
       "Sleep Disorder             219\n",
       "dtype: int64"
      ]
     },
     "execution_count": 199,
     "metadata": {},
     "output_type": "execute_result"
    }
   ],
   "source": [
    "#Confirm the missing values\n",
    "health_wellness_df.isnull().sum()"
   ]
  },
  {
   "cell_type": "code",
   "execution_count": 200,
   "id": "dd8beb7b",
   "metadata": {},
   "outputs": [
    {
     "data": {
      "text/plain": [
       "0"
      ]
     },
     "execution_count": 200,
     "metadata": {},
     "output_type": "execute_result"
    }
   ],
   "source": [
    "health_wellness_df.duplicated().sum()"
   ]
  },
  {
   "cell_type": "markdown",
   "id": "36832d9f",
   "metadata": {},
   "source": [
    "**Summary**\n",
    "\n",
    "* We have 219 null values in the Sleep Disorder and we shall decide how to deal with this. \n",
    "\n",
    "* We also do not have any duplicated values."
   ]
  },
  {
   "cell_type": "code",
   "execution_count": 201,
   "id": "e60f6926",
   "metadata": {},
   "outputs": [
    {
     "name": "stdout",
     "output_type": "stream",
     "text": [
      "Sleep Disorder\n",
      "True     219\n",
      "False    155\n",
      "Name: count, dtype: int64\n",
      "------\n",
      "Sleep Disorder\n",
      "Sleep Apnea    0.503226\n",
      "Insomnia       0.496774\n",
      "Name: proportion, dtype: float64\n"
     ]
    }
   ],
   "source": [
    "#Check value distribution for the null values on the Sleep Disorder column\n",
    "print(health_wellness_df['Sleep Disorder'].isnull().value_counts())\n",
    "print('------')\n",
    "print(health_wellness_df['Sleep Disorder'].value_counts(normalize=True))"
   ]
  },
  {
   "cell_type": "markdown",
   "id": "30096d46",
   "metadata": {},
   "source": [
    "**Observations**\n",
    "\n",
    "* 115 entries have sleep disorder while 219 do not have sleep disorder. We shall then proceed to have a placeholder in the place of null values. We also observe a class imbalance on the target column.\n",
    "\n",
    "* For those with sleep disorders about 50.3% have Sleep Apnea and 49.7% have Insomnia."
   ]
  },
  {
   "cell_type": "code",
   "execution_count": 202,
   "id": "d320a798",
   "metadata": {},
   "outputs": [
    {
     "data": {
      "text/plain": [
       "Sleep Disorder\n",
       "No Disorder    219\n",
       "Sleep Apnea     78\n",
       "Insomnia        77\n",
       "Name: count, dtype: int64"
      ]
     },
     "execution_count": 202,
     "metadata": {},
     "output_type": "execute_result"
    }
   ],
   "source": [
    "#Fill the null values with 'No Disorder' as a placeholder\n",
    "health_wellness_df['Sleep Disorder'] = health_wellness_df['Sleep Disorder'].fillna('No Disorder')\n",
    "health_wellness_df['Sleep Disorder'].value_counts() #Confirmed the placeholder strings are in place\n"
   ]
  },
  {
   "cell_type": "code",
   "execution_count": 203,
   "id": "ea3c82dd",
   "metadata": {},
   "outputs": [
    {
     "data": {
      "image/png": "[encoded data removed]",
      "text/plain": [
       "<Figure size 576x576 with 1 Axes>"
      ]
     },
     "metadata": {
      "needs_background": "light"
     },
     "output_type": "display_data"
    },
    {
     "data": {
      "image/png": "[encoded data removed]",
      "text/plain": [
       "<Figure size 576x576 with 1 Axes>"
      ]
     },
     "metadata": {
      "needs_background": "light"
     },
     "output_type": "display_data"
    },
    {
     "data": {
      "image/png": "[encoded data removed]",
      "text/plain": [
       "<Figure size 576x576 with 1 Axes>"
      ]
     },
     "metadata": {
      "needs_background": "light"
     },
     "output_type": "display_data"
    },
    {
     "data": {
      "image/png": "[encoded data removed]",
      "text/plain": [
       "<Figure size 576x576 with 1 Axes>"
      ]
     },
     "metadata": {
      "needs_background": "light"
     },
     "output_type": "display_data"
    },
    {
     "data": {
      "image/png": "[encoded data removed]",
      "text/plain": [
       "<Figure size 576x576 with 1 Axes>"
      ]
     },
     "metadata": {
      "needs_background": "light"
     },
     "output_type": "display_data"
    },
    {
     "data": {
      "image/png": "[encoded data removed]",
      "text/plain": [
       "<Figure size 576x576 with 1 Axes>"
      ]
     },
     "metadata": {
      "needs_background": "light"
     },
     "output_type": "display_data"
    },
    {
     "data": {
      "image/png": "[encoded data removed]",
      "text/plain": [
       "<Figure size 576x576 with 1 Axes>"
      ]
     },
     "metadata": {
      "needs_background": "light"
     },
     "output_type": "display_data"
    },
    {
     "data": {
      "image/png": "[encoded data removed]",
      "text/plain": [
       "<Figure size 576x576 with 1 Axes>"
      ]
     },
     "metadata": {
      "needs_background": "light"
     },
     "output_type": "display_data"
    }
   ],
   "source": [
    "#Confirm whether we have outliers \n",
    "numeric_cols = health_wellness_df.select_dtypes('number')\n",
    "for col in numeric_cols:\n",
    "    fig, ax = plt.subplots(figsize=(8,8))\n",
    "    plt.boxplot(health_wellness_df[col])\n",
    "    plt.ylabel(col)\n",
    "    plt.title(f'Boxplot of {col}')\n",
    "    plt.show;"
   ]
  },
  {
   "cell_type": "markdown",
   "id": "4fa957df",
   "metadata": {},
   "source": [
    "**Observations**\n",
    "\n",
    "* We observe outliers on the heart rate column"
   ]
  },
  {
   "cell_type": "markdown",
   "id": "2fc5c518",
   "metadata": {},
   "source": [
    "### 3b. Univariate Analysis\n",
    "It involves examining a single variable (column) at a time to understand its distribution, central tendency, and spread"
   ]
  },
  {
   "cell_type": "code",
   "execution_count": 204,
   "id": "398e4d91",
   "metadata": {},
   "outputs": [
    {
     "name": "stdout",
     "output_type": "stream",
     "text": [
      "Gender\n",
      "Male      189\n",
      "Female    185\n",
      "Name: count, dtype: int64\n"
     ]
    },
    {
     "data": {
      "image/png": "[encoded data removed]",
      "text/plain": [
       "<Figure size 432x432 with 1 Axes>"
      ]
     },
     "metadata": {
      "needs_background": "light"
     },
     "output_type": "display_data"
    }
   ],
   "source": [
    "#Lets observe the gender distribution\n",
    "gender_dist = health_wellness_df['Gender'].value_counts()\n",
    "print(gender_dist)\n",
    "#Plot the graph\n",
    "fig, ax = plt.subplots(figsize=(6, 6))\n",
    "sns.barplot(x=gender_dist.index, y=gender_dist.values, palette=\"Set2\", ax=ax)\n",
    "ax.set_title(\"Gender Distribution\")\n",
    "ax.set_xlabel(\"Gender\")\n",
    "ax.set_ylabel(\"Count\")\n",
    "plt.tight_layout()\n",
    "plt.show()"
   ]
  },
  {
   "cell_type": "markdown",
   "id": "4f1d5391",
   "metadata": {},
   "source": [
    "**Observations**\n",
    "\n",
    "* We observe that most of the data was collected from the Male gender."
   ]
  },
  {
   "cell_type": "code",
   "execution_count": 205,
   "id": "9f706c8b",
   "metadata": {},
   "outputs": [
    {
     "name": "stdout",
     "output_type": "stream",
     "text": [
      "Occupation\n",
      "Nurse                   73\n",
      "Doctor                  71\n",
      "Engineer                63\n",
      "Lawyer                  47\n",
      "Teacher                 40\n",
      "Accountant              37\n",
      "Salesperson             32\n",
      "Software Engineer        4\n",
      "Scientist                4\n",
      "Sales Representative     2\n",
      "Manager                  1\n",
      "Name: count, dtype: int64\n"
     ]
    },
    {
     "data": {
      "image/png": "[encoded data removed]",
      "text/plain": [
       "<Figure size 576x432 with 1 Axes>"
      ]
     },
     "metadata": {
      "needs_background": "light"
     },
     "output_type": "display_data"
    }
   ],
   "source": [
    "#Lets Observe the occupation distribution\n",
    "occupation_dist = health_wellness_df['Occupation'].value_counts()\n",
    "print(occupation_dist)\n",
    "\n",
    "fig, ax = plt.subplots(figsize=(8,6))\n",
    "plt.bar(occupation_dist.index, occupation_dist.values)\n",
    "plt.title('Occupation Distribution')\n",
    "plt.xlabel('Occupation Category')\n",
    "plt.ylabel('Count')\n",
    "plt.xticks(rotation=90)\n",
    "plt.show();"
   ]
  },
  {
   "cell_type": "markdown",
   "id": "a3f05392",
   "metadata": {},
   "source": [
    "**Observations**\n",
    "\n",
    "* The occupation with the highest entries here is Nurse, Doctor followed by Engineer's respectively. The occupation category Manager has the least entries."
   ]
  },
  {
   "cell_type": "code",
   "execution_count": 206,
   "id": "b2519e5f",
   "metadata": {},
   "outputs": [
    {
     "name": "stdout",
     "output_type": "stream",
     "text": [
      "BMI Category\n",
      "Normal           195\n",
      "Overweight       148\n",
      "Normal Weight     21\n",
      "Obese             10\n",
      "Name: count, dtype: int64\n"
     ]
    },
    {
     "data": {
      "image/png": "[encoded data removed]",
      "text/plain": [
       "<Figure size 576x576 with 1 Axes>"
      ]
     },
     "metadata": {
      "needs_background": "light"
     },
     "output_type": "display_data"
    }
   ],
   "source": [
    "#BMI Category distribution\n",
    "bmi_cat_dist = health_wellness_df['BMI Category'].value_counts()\n",
    "print(bmi_cat_dist)\n",
    "fig, ax = plt.subplots(figsize=(8,8))\n",
    "plt.barh(bmi_cat_dist.index, bmi_cat_dist.values)\n",
    "plt.ylabel('BMI Category')\n",
    "plt.xlabel('Count')\n",
    "plt.title('BMI Category Distribution')\n",
    "plt.show();"
   ]
  },
  {
   "cell_type": "markdown",
   "id": "2ebeef5d",
   "metadata": {},
   "source": [
    "**Observations**\n",
    "\n",
    "* Most of the individuals that were measured were of normal BMI Category and followed by overweight individuals."
   ]
  },
  {
   "cell_type": "code",
   "execution_count": 207,
   "id": "ae2e22c1",
   "metadata": {},
   "outputs": [
    {
     "data": {
      "image/png": "[encoded data removed]",
      "text/plain": [
       "<Figure size 432x288 with 1 Axes>"
      ]
     },
     "metadata": {
      "needs_background": "light"
     },
     "output_type": "display_data"
    }
   ],
   "source": [
    "#Lets Observe the Quality of sleep distribution\n",
    "quality_of_sleep = health_wellness_df['Quality of Sleep'].value_counts()\n",
    "quality_of_sleep\n",
    "plt.bar(quality_of_sleep.index, quality_of_sleep.values)\n",
    "plt.xlabel('Quality of Sleep Entries')\n",
    "plt.ylabel('Count')\n",
    "plt.title('Quality of Sleep Distribution')\n",
    "plt.show();"
   ]
  },
  {
   "cell_type": "code",
   "execution_count": 208,
   "id": "f856fd67",
   "metadata": {},
   "outputs": [
    {
     "data": {
      "image/png": "[encoded data removed]",
      "text/plain": [
       "<Figure size 576x432 with 1 Axes>"
      ]
     },
     "metadata": {
      "needs_background": "light"
     },
     "output_type": "display_data"
    }
   ],
   "source": [
    "# Lets observe the Sress level distribution\n",
    "stress_level_dist = health_wellness_df['Stress Level'].value_counts()\n",
    "stress_level_dist\n",
    "fig, ax = plt.subplots(figsize=(8,6))\n",
    "sns.barplot(x=stress_level_dist.index, y=stress_level_dist.values, ax=ax, palette='Set1')\n",
    "ax.set_ylabel('Count')\n",
    "ax.set_xlabel('Stress Level Categories')\n",
    "ax.set_title('Stress Level Distribution')\n",
    "plt.show();"
   ]
  },
  {
   "cell_type": "markdown",
   "id": "cfa3e2bb",
   "metadata": {},
   "source": [
    "### 3c. Bivariate Analysis\n",
    "This analysis examines the relationship between two variables. The independent variable that is the columns and the other dependent variable in this case Sleep Disorder."
   ]
  },
  {
   "cell_type": "code",
   "execution_count": 209,
   "id": "55457a69",
   "metadata": {},
   "outputs": [
    {
     "name": "stdout",
     "output_type": "stream",
     "text": [
      "   Gender Sleep Disorder  Count\n",
      "0  Female       Insomnia     36\n",
      "1  Female    No Disorder     82\n",
      "2  Female    Sleep Apnea     67\n",
      "3    Male       Insomnia     41\n",
      "4    Male    No Disorder    137\n",
      "5    Male    Sleep Apnea     11\n"
     ]
    },
    {
     "data": {
      "image/png": "[encoded data removed]",
      "text/plain": [
       "<Figure size 432x432 with 1 Axes>"
      ]
     },
     "metadata": {
      "needs_background": "light"
     },
     "output_type": "display_data"
    }
   ],
   "source": [
    "# Lets start with gender and sleep Disorder\n",
    "gender_dis = health_wellness_df.groupby(['Gender', 'Sleep Disorder']).size().reset_index(name='Count')\n",
    "print(gender_dis)\n",
    "fig, ax = plt.subplots(figsize=(6,6))\n",
    "sns.barplot(data=gender_dis, x='Gender', y='Count', hue='Sleep Disorder', ax=ax, palette='Set1')\n",
    "ax.set_xlabel('Gender and Sleep Disorder')\n",
    "ax.set_ylabel('Count')\n",
    "ax.set_title('Sleep Disorder Across Gender')\n",
    "plt.show();\n",
    "\n"
   ]
  },
  {
   "cell_type": "markdown",
   "id": "3fc771bc",
   "metadata": {},
   "source": [
    "**Observations**\n",
    "\n",
    "* We observe that most Females suffer from Sleep Apnea while Males suffer from Insomnia."
   ]
  },
  {
   "cell_type": "code",
   "execution_count": 210,
   "id": "7515b3bd",
   "metadata": {},
   "outputs": [
    {
     "data": {
      "image/png": "[encoded data removed]",
      "text/plain": [
       "<Figure size 720x432 with 1 Axes>"
      ]
     },
     "metadata": {
      "needs_background": "light"
     },
     "output_type": "display_data"
    }
   ],
   "source": [
    "# Sleep disorder by Age \n",
    "health_wellness_df['Age Group'] = pd.cut(\n",
    "    health_wellness_df['Age'],\n",
    "    bins=[0, 27, 31, 36, 41, 46, 51, 56],\n",
    "    labels=['27-30', '31-35', '36-40', '41-45', '46-50', '51-55', '56-60']) #Create age groups\n",
    "\n",
    "age_sleep = health_wellness_df.groupby(['Age Group', 'Sleep Disorder']).size().reset_index(name='Count')\n",
    "plt.figure(figsize=(10, 6))\n",
    "sns.barplot(data=age_sleep, x='Age Group', y='Count', hue='Sleep Disorder', palette='muted')\n",
    "plt.title('Sleep Disorder by Age Group')\n",
    "plt.xlabel('Age Group')\n",
    "plt.ylabel('Count')\n",
    "plt.tight_layout()\n",
    "plt.show()"
   ]
  },
  {
   "cell_type": "markdown",
   "id": "3cf94cfb",
   "metadata": {},
   "source": [
    "**Observations**\n",
    "\n",
    "* Most of the people between 27 to 45 years old do not have any sleep disorder.\n",
    "\n",
    "* Between 31-35 years, 36-40 and 41-45, most of the 31-35 year olds suffer from Sleep Apnea.\n",
    "\n",
    "* Insomnia is high for the 46-50 year olds.\n",
    "\n",
    "* Most of the people between 51-55 suffer from Sleep Apnea.\n",
    "\n",
    "* 56-60 year olds suffer from Insomnia."
   ]
  },
  {
   "cell_type": "code",
   "execution_count": 211,
   "id": "2a1e7d33",
   "metadata": {},
   "outputs": [
    {
     "data": {
      "image/png": "[encoded data removed]",
      "text/plain": [
       "<Figure size 576x576 with 1 Axes>"
      ]
     },
     "metadata": {
      "needs_background": "light"
     },
     "output_type": "display_data"
    }
   ],
   "source": [
    "# Occupation and sleep disorder\n",
    "occupation_dis = health_wellness_df.groupby(['Occupation', 'Sleep Disorder']).size().reset_index(name='Count')\n",
    "occupation_dis\n",
    "#Visualization to show this\n",
    "fig, ax = plt.subplots(figsize=(8,8))\n",
    "sns.barplot(data=occupation_dis, x='Occupation', y='Count', hue='Sleep Disorder', ax=ax, palette='muted')\n",
    "plt.xlabel('Occupation')\n",
    "plt.ylabel('Count')\n",
    "plt.xticks(rotation=90)\n",
    "plt.title('Occupation and Sleep Disorder Relationship')\n",
    "plt.savefig(\"plot_occupation.pdf\", dpi=300)\n",
    "plt.show()\n",
    "\n"
   ]
  },
  {
   "cell_type": "markdown",
   "id": "f4ddcae4",
   "metadata": {},
   "source": [
    "**Observations**\n",
    "\n",
    "* Amongst all the occupation the data was collected from Nurses seems to be more affected by Sleep Apnea while Salespersons affected by Insomnia followed by Teachers.\n"
   ]
  },
  {
   "cell_type": "code",
   "execution_count": 212,
   "id": "30cf8360",
   "metadata": {},
   "outputs": [
    {
     "name": "stdout",
     "output_type": "stream",
     "text": [
      "   Sleep Duration Sleep Disorder  Count\n",
      "0         5.6-6.0       Insomnia      2\n",
      "1         5.6-6.0    No Disorder     17\n",
      "2         5.6-6.0    Sleep Apnea     18\n",
      "3         6.1-6.5       Insomnia     44\n",
      "4         6.1-6.5    No Disorder     22\n",
      "5         6.1-6.5    Sleep Apnea     19\n",
      "6         6.6-7.0       Insomnia     23\n",
      "7         6.6-7.0    No Disorder      7\n",
      "8         6.6-7.0    Sleep Apnea      3\n",
      "9         7.1-7.5       Insomnia      4\n",
      "10        7.1-7.5    No Disorder     71\n",
      "11        7.1-7.5    Sleep Apnea      4\n",
      "12        7.6-8.0       Insomnia      3\n",
      "13        7.6-8.0    No Disorder     67\n",
      "14        7.6-8.0    Sleep Apnea     12\n",
      "15        8.1-8.5       Insomnia      1\n",
      "16        8.1-8.5    No Disorder     35\n",
      "17        8.1-8.5    Sleep Apnea     22\n"
     ]
    },
    {
     "data": {
      "image/png": "[encoded data removed]",
      "text/plain": [
       "<Figure size 576x576 with 1 Axes>"
      ]
     },
     "metadata": {
      "needs_background": "light"
     },
     "output_type": "display_data"
    }
   ],
   "source": [
    "# Sleep Duration and Sleep Disorder\n",
    "health_wellness_df['Sleep Duration'] = pd.cut(\n",
    "    health_wellness_df['Sleep Duration'],\n",
    "    bins = [0, 6.0, 6.5, 7.0, 7.5, 8.0, 8.5],\n",
    "    labels = ['5.6-6.0', '6.1-6.5', '6.6-7.0', '7.1-7.5', '7.6-8.0', '8.1-8.5']\n",
    ")\n",
    "sleep_duration = health_wellness_df.groupby(['Sleep Duration', 'Sleep Disorder']).size().reset_index(name='Count')\n",
    "print(sleep_duration)\n",
    "fig, ax = plt.subplots(figsize=(8,8))\n",
    "sns.barplot(data=sleep_duration, x='Sleep Duration', y='Count', hue='Sleep Disorder', ax=ax, palette='dark')\n",
    "ax.set_xlabel('Sleep Duration')\n",
    "ax.set_ylabel('Count of Disorders')\n",
    "ax.set_title('Sleep Duration & Sleep Disorder Relationship')\n",
    "plt.show();"
   ]
  },
  {
   "cell_type": "markdown",
   "id": "cd1559d4",
   "metadata": {},
   "source": [
    "**Observations**\n",
    "\n",
    "* Those that have a sleep duration between 6.1-6.5 experience Insomnia while those that sleep for 8.1-8.5 hours suffer from Sleep Apnea."
   ]
  },
  {
   "cell_type": "code",
   "execution_count": 224,
   "id": "3b78c655",
   "metadata": {},
   "outputs": [
    {
     "name": "stdout",
     "output_type": "stream",
     "text": [
      "    Quality of Sleep Sleep Disorder  Count\n",
      "0                  4       Insomnia      1\n",
      "1                  4    Sleep Apnea      4\n",
      "2                  5       Insomnia      4\n",
      "3                  5    Sleep Apnea      3\n",
      "4                  6       Insomnia     32\n",
      "5                  6    No Disorder     40\n",
      "6                  6    Sleep Apnea     33\n",
      "7                  7       Insomnia     34\n",
      "8                  7    No Disorder     40\n",
      "9                  7    Sleep Apnea      3\n",
      "10                 8       Insomnia      5\n",
      "11                 8    No Disorder    101\n",
      "12                 8    Sleep Apnea      3\n",
      "13                 9       Insomnia      1\n",
      "14                 9    No Disorder     38\n",
      "15                 9    Sleep Apnea     32\n"
     ]
    },
    {
     "data": {
      "image/png": "[encoded data removed]",
      "text/plain": [
       "<Figure size 576x576 with 1 Axes>"
      ]
     },
     "metadata": {
      "needs_background": "light"
     },
     "output_type": "display_data"
    }
   ],
   "source": [
    "# Quality of sleep and sleep disorder\n",
    "sleep_quality = health_wellness_df.groupby(['Quality of Sleep', 'Sleep Disorder']).size().reset_index(name='Count')\n",
    "print(sleep_quality)\n",
    "fig, ax = plt.subplots(figsize=(8,8))\n",
    "sns.barplot(data=sleep_quality, x='Quality of Sleep', y='Count', hue='Sleep Disorder', ax=ax, palette='Set1')\n",
    "ax.set_xlabel('Quality Of Sleep')\n",
    "ax.set_ylabel('Count')\n",
    "ax.set_title('Sleep Quality & Sleep Distribution Relationship')\n",
    "plt.show();"
   ]
  },
  {
   "cell_type": "markdown",
   "id": "cc171407",
   "metadata": {},
   "source": [
    "**Observations**\n",
    "\n",
    "* Those with sleep quality of 6 and 7 have the highest exposure to Insomnia.\n",
    "\n",
    "* Quality of Sleep at 6 and 9 suffer from Sleep Apnea."
   ]
  },
  {
   "cell_type": "code",
   "execution_count": null,
   "id": "50246e60",
   "metadata": {},
   "outputs": [],
   "source": [
    "# Physical Activity Level and Sleep Disorder\n"
   ]
  },
  {
   "cell_type": "code",
   "execution_count": 215,
   "id": "f0aad2b8",
   "metadata": {},
   "outputs": [],
   "source": [
    "# Stress Level and Sleep Disorder"
   ]
  },
  {
   "cell_type": "code",
   "execution_count": 216,
   "id": "668b400f",
   "metadata": {},
   "outputs": [],
   "source": [
    "# BMI Category and Sleep Disorder"
   ]
  },
  {
   "cell_type": "code",
   "execution_count": 217,
   "id": "e7d2ad27",
   "metadata": {},
   "outputs": [],
   "source": [
    "# Blood Pressure and Sleep Disorder"
   ]
  },
  {
   "cell_type": "code",
   "execution_count": 218,
   "id": "08b22c49",
   "metadata": {},
   "outputs": [],
   "source": [
    "# Heart Rate and Sleep Disorder"
   ]
  },
  {
   "cell_type": "code",
   "execution_count": 219,
   "id": "9b52ea89",
   "metadata": {},
   "outputs": [],
   "source": [
    "# Daily Steps and Sleep Disorder"
   ]
  },
  {
   "cell_type": "markdown",
   "id": "1469e572",
   "metadata": {},
   "source": [
    "### 3d Multivariate Analysis\n",
    "This looks at more than two variables simultaneously, helping you discover complex patterns, interactions or combined effects."
   ]
  },
  {
   "cell_type": "code",
   "execution_count": 220,
   "id": "801a68cc",
   "metadata": {},
   "outputs": [
    {
     "ename": "SyntaxError",
     "evalue": "invalid syntax (<ipython-input-220-526e4e19cd8e>, line 5)",
     "output_type": "error",
     "traceback": [
      "\u001b[1;36m  File \u001b[1;32m\"<ipython-input-220-526e4e19cd8e>\"\u001b[1;36m, line \u001b[1;32m5\u001b[0m\n\u001b[1;33m    dtype='object')\u001b[0m\n\u001b[1;37m         ^\u001b[0m\n\u001b[1;31mSyntaxError\u001b[0m\u001b[1;31m:\u001b[0m invalid syntax\n"
     ]
    }
   ],
   "source": [
    "(['Person ID', 'Gender', 'Age', 'Occupation', 'Sleep Duration',\n",
    "       'Quality of Sleep', 'Physical Activity Level', 'Stress Level',\n",
    "       'BMI Category', 'Blood Pressure', 'Heart Rate', 'Daily Steps',\n",
    "       'Sleep Disorder'],\n",
    "      dtype='object')"
   ]
  }
 ],
 "metadata": {
  "kernelspec": {
   "display_name": "learn-env",
   "language": "python",
   "name": "python3"
  },
  "language_info": {
   "codemirror_mode": {
    "name": "ipython",
    "version": 3
   },
   "file_extension": ".py",
   "mimetype": "text/x-python",
   "name": "python",
   "nbconvert_exporter": "python",
   "pygments_lexer": "ipython3",
   "version": "3.8.5"
  }
 },
 "nbformat": 4,
 "nbformat_minor": 5
}
